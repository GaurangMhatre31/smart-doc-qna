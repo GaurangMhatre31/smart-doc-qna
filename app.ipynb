{
 "cells": [
  {
   "cell_type": "code",
   "execution_count": 1,
   "id": "5ca2d6be-f01d-4a3e-ae70-c4146aca1914",
   "metadata": {},
   "outputs": [
    {
     "data": {
      "text/plain": [
       "0"
      ]
     },
     "execution_count": 1,
     "metadata": {},
     "output_type": "execute_result"
    }
   ],
   "source": [
    "import sys\n",
    "import subprocess\n",
    "subprocess.check_call([sys.executable, \"-m\", \"pip\", \"install\", \"streamlit\"])\n"
   ]
  },
  {
   "cell_type": "code",
   "execution_count": 4,
   "id": "5e5e1904-98e9-4a2f-a71d-f634a9f18d5f",
   "metadata": {},
   "outputs": [],
   "source": [
    "import streamlit as st\n",
    "import PyPDF2\n",
    "import docx\n",
    "\n",
    "def extract_text_from_pdf(file):\n",
    "    reader = PyPDF2.PdfReader(file)\n",
    "    return \" \".join([page.extract_text() for page in reader.pages])\n",
    "\n",
    "def extract_text_from_docx(file):\n",
    "    doc = docx.Document(file)\n",
    "    return \" \".join([paragraph.text for paragraph in doc.paragraphs])\n",
    "\n",
    "def generate_answer(text, question):\n",
    "    return f\"Answer to '{question}': {text[:500]}...\"  # Dummy response\n",
    "\n",
    "st.title(\"PDF/Word Q&A Model\")\n",
    "uploaded_file = st.file_uploader(\"Upload a PDF or Word Document\")\n",
    "question = st.text_input(\"Enter your question\")\n",
    "\n",
    "if uploaded_file and question:\n",
    "    if uploaded_file.name.endswith(\".pdf\"):\n",
    "        text = extract_text_from_pdf(uploaded_file)\n",
    "    elif uploaded_file.name.endswith(\".docx\"):\n",
    "        text = extract_text_from_docx(uploaded_file)\n",
    "    else:\n",
    "        st.error(\"Unsupported file format.\")\n",
    "        text = None\n",
    "\n",
    "    if text:\n",
    "        answer = generate_answer(text, question)\n",
    "        st.success(answer)\n"
   ]
  },
  {
   "cell_type": "code",
   "execution_count": 3,
   "id": "36707e00-51af-4a94-9971-ee66f7a3c78c",
   "metadata": {},
   "outputs": [
    {
     "data": {
      "text/plain": [
       "101"
      ]
     },
     "execution_count": 3,
     "metadata": {},
     "output_type": "execute_result"
    }
   ],
   "source": [
    "import os\n",
    "\n",
    "os.system(\"streamlit run app.py\")\n"
   ]
  },
  {
   "cell_type": "code",
   "execution_count": null,
   "id": "0a0a2e95-5319-4671-aae2-220519aa999f",
   "metadata": {},
   "outputs": [],
   "source": []
  }
 ],
 "metadata": {
  "kernelspec": {
   "display_name": "Python 3 (ipykernel)",
   "language": "python",
   "name": "python3"
  },
  "language_info": {
   "codemirror_mode": {
    "name": "ipython",
    "version": 3
   },
   "file_extension": ".py",
   "mimetype": "text/x-python",
   "name": "python",
   "nbconvert_exporter": "python",
   "pygments_lexer": "ipython3",
   "version": "3.12.4"
  }
 },
 "nbformat": 4,
 "nbformat_minor": 5
}
